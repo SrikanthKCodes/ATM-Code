{
 "cells": [
  {
   "cell_type": "code",
   "execution_count": null,
   "id": "6f84de57",
   "metadata": {},
   "outputs": [],
   "source": [
    "#ATM Machine Project\n",
    "Balance=10000\n",
    "Pin=1234\n",
    "Chances=1\n",
    "restart='yes'\n",
    "print(\"Welcome to the ATM\")\n",
    "while Chances<4:\n",
    "    Pin=int(input(\"Please enter your Pin \"))\n",
    "    if Pin!=1234:\n",
    "        print(\"You have entered the wrong Pin\")\n",
    "        Chances=Chances+1\n",
    "        if Chances>3:\n",
    "            print(\"You have exceeded the chances limit \\nNo try\")\n",
    "            break\n",
    "        restart=input(\"would you like to go back? yes or no : \")\n",
    "        if restart=='no':\n",
    "            print(\"Thank you \\nVisit again\")\n",
    "            break  \n",
    "    else:\n",
    "        print(\"You have entered the correct pin\")\n",
    "        Choice=int(input(\"Please select your Choice \\n1-Balance \\n2-Withdrawal \\n3-Payin \\n4-Return card\"))\n",
    "        if Choice==1:\n",
    "            print(\"Your balance is\",Balance)\n",
    "            restart=input(\"would you like to go back? yes or no : \")\n",
    "            if restart=='no':\n",
    "                print(\"Thank you \\nVisit again\")\n",
    "                break\n",
    "        elif Choice==2:\n",
    "            withdrawal_amount=int(input(\"Please enter the withdrawal amount \"))\n",
    "            Balance=Balance-withdrawal_amount\n",
    "            print(\"Your Balance is\",Balance)\n",
    "            restart=input(\"would you like to go back? yes or no : \")\n",
    "            if restart=='no':\n",
    "                print(\"Thank you \\nVisit again\")\n",
    "                break\n",
    "        elif Choice==3:\n",
    "            payin=int(input(\"Please enter the payin amount \"))\n",
    "            Balance=Balance+payin\n",
    "            print(\"Your Balance is\",Balance)\n",
    "            restart=input(\"would you like to go back? yes or no : \")\n",
    "            if restart=='no':\n",
    "                print(\"Thank you \\nVisit again\")\n",
    "                break\n",
    "        elif Choice==4:\n",
    "            print(\"Your Card is returned \\nPlease collect your card \\nThank you \\nVisit again\")\n",
    "            break\n",
    "        else:\n",
    "            print(\"You have entered the wrong choice \")\n",
    "            restart=input(\"would you like to go back? yes or no : \")\n",
    "            if restart=='no':\n",
    "                print(\"Thank you \\nVisit again\")\n",
    "                break\n",
    "    \n",
    "            "
   ]
  },
  {
   "cell_type": "code",
   "execution_count": null,
   "id": "b787e260",
   "metadata": {},
   "outputs": [],
   "source": []
  }
 ],
 "metadata": {
  "kernelspec": {
   "display_name": "Python 3",
   "language": "python",
   "name": "python3"
  },
  "language_info": {
   "codemirror_mode": {
    "name": "ipython",
    "version": 3
   },
   "file_extension": ".py",
   "mimetype": "text/x-python",
   "name": "python",
   "nbconvert_exporter": "python",
   "pygments_lexer": "ipython3",
   "version": "3.8.8"
  }
 },
 "nbformat": 4,
 "nbformat_minor": 5
}
